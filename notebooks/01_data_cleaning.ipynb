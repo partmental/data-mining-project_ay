{
 "cells": [
  {
   "cell_type": "markdown",
   "metadata": {},
   "source": [
    "# 01. Data Cleaning\n",
    "\n",
    "This notebook:\n",
    "- Loads the original raw dataset using a relative path\n",
    "- Replaces placeholder values (e.g., 999 for waistline, 9.9 for sight measures) with NaN\n",
    "- Standardizes data types (e.g., converts 'sex' to categorical)\n",
    "- Saves the cleaned dataset into `data/interim/` for subsequent processing"
   ]
  },
  {
   "cell_type": "code",
   "execution_count": 2,
   "metadata": {},
   "outputs": [
    {
     "name": "stdout",
     "output_type": "stream",
     "text": [
      "Shape of raw dataset: (991346, 24)\n",
      "\n",
      "Missing values per column after replacement:\n",
      "sex                    0\n",
      "age                    0\n",
      "height                 0\n",
      "weight                 0\n",
      "waistline             57\n",
      "sight_left          3118\n",
      "sight_right         3111\n",
      "hear_left              0\n",
      "hear_right             0\n",
      "SBP                    0\n",
      "DBP                    0\n",
      "BLDS                   0\n",
      "tot_chole              0\n",
      "HDL_chole              0\n",
      "LDL_chole              0\n",
      "triglyceride           0\n",
      "hemoglobin             0\n",
      "urine_protein          0\n",
      "serum_creatinine       0\n",
      "SGOT_AST               0\n",
      "SGOT_ALT               0\n",
      "gamma_GTP            239\n",
      "SMK_stat_type_cd       0\n",
      "DRK_YN                 0\n",
      "dtype: int64\n",
      "\n",
      "Cleaned dataset saved successfully to ../data/interim/alcohol_consumption_cleaned.csv\n"
     ]
    }
   ],
   "source": [
    "# 01_data_cleaning.ipynb\n",
    "\n",
    "# ====================================================\n",
    "# 01. Data Cleaning\n",
    "# ----------------------------------------------------\n",
    "# Objective:\n",
    "# - Load the raw dataset using a relative path\n",
    "# - Replace placeholder values with NaN\n",
    "# - Standardize data types\n",
    "# - Save the cleaned intermediate dataset\n",
    "# ====================================================\n",
    "\n",
    "## 1. Import necessary libraries\n",
    "import pandas as pd\n",
    "import numpy as np\n",
    "from pathlib import Path\n",
    "\n",
    "## 2. Define relative file paths\n",
    "RAW_DATA_PATH = Path('../data/raw/alcohol_consumption_raw.csv')         # Relative path to the raw dataset\n",
    "CLEANED_DATA_PATH = Path('../data/interim/alcohol_consumption_cleaned.csv')  # Relative path to save the cleaned dataset\n",
    "\n",
    "## 3. Load the raw dataset using a relative path\n",
    "df_raw = pd.read_csv(RAW_DATA_PATH)\n",
    "\n",
    "print(\"Shape of raw dataset:\", df_raw.shape)\n",
    "df_raw.head()\n",
    "\n",
    "## 4. Replace placeholder values with NaN\n",
    "# Replace 999 in 'waistline' and 'gamma_GTP' with NaN\n",
    "df_raw['waistline'] = df_raw['waistline'].replace(999, np.nan)\n",
    "df_raw['gamma_GTP'] = df_raw['gamma_GTP'].replace(999.0, np.nan)\n",
    "\n",
    "# Replace 9.9 in 'sight_left' and 'sight_right' with NaN\n",
    "df_raw['sight_left'] = df_raw['sight_left'].replace(9.9, np.nan)\n",
    "df_raw['sight_right'] = df_raw['sight_right'].replace(9.9, np.nan)\n",
    "\n",
    "## 5. Inspect missing values\n",
    "print(\"\\nMissing values per column after replacement:\")\n",
    "print(df_raw.isnull().sum())\n",
    "\n",
    "## 6. Standardize data types\n",
    "# Convert 'sex' to categorical type\n",
    "df_raw['sex'] = df_raw['sex'].astype('category')\n",
    "\n",
    "# (Optional) Further type standardization if needed\n",
    "\n",
    "## 7. Save the cleaned dataset\n",
    "df_raw.to_csv(CLEANED_DATA_PATH, index=False)\n",
    "\n",
    "print(f\"\\nCleaned dataset saved successfully to {CLEANED_DATA_PATH}\")\n"
   ]
  }
 ],
 "metadata": {
  "kernelspec": {
   "display_name": "pytorch",
   "language": "python",
   "name": "python3"
  },
  "language_info": {
   "codemirror_mode": {
    "name": "ipython",
    "version": 3
   },
   "file_extension": ".py",
   "mimetype": "text/x-python",
   "name": "python",
   "nbconvert_exporter": "python",
   "pygments_lexer": "ipython3",
   "version": "3.12.7"
  }
 },
 "nbformat": 4,
 "nbformat_minor": 2
}
